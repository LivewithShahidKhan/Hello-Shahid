{
  "nbformat": 4,
  "nbformat_minor": 0,
  "metadata": {
    "colab": {
      "name": "Excercises.ipynb",
      "provenance": [],
      "collapsed_sections": [],
      "authorship_tag": "ABX9TyMA5gEtzkwBx2Nv1Xi+gjBb",
      "include_colab_link": true
    },
    "kernelspec": {
      "name": "python3",
      "display_name": "Python 3"
    }
  },
  "cells": [
    {
      "cell_type": "markdown",
      "metadata": {
        "id": "view-in-github",
        "colab_type": "text"
      },
      "source": [
        "<a href=\"https://colab.research.google.com/github/LivewithShahidKhan/Hello-Shahid/blob/master/Excercises.ipynb\" target=\"_parent\"><img src=\"https://colab.research.google.com/assets/colab-badge.svg\" alt=\"Open In Colab\"/></a>"
      ]
    },
    {
      "cell_type": "code",
      "metadata": {
        "id": "G0un5_QBAgeN"
      },
      "source": [
        "# creat excersie 1"
      ],
      "execution_count": 1,
      "outputs": []
    },
    {
      "cell_type": "code",
      "metadata": {
        "colab": {
          "base_uri": "https://localhost:8080/"
        },
        "id": "msHKr0i6AmfY",
        "outputId": "032d9367-6e9d-4775-c8e5-ebeaf3264aed"
      },
      "source": [
        "name = input(\"Enter Your Name :\" )\r\n",
        "age = input(\"Enter Your Age :\" )\r\n",
        "age = int(age)\r\n",
        "year = str((2021-age)+100)\r\n",
        "print(name+\" will be 100 year old in \" + year)\r\n"
      ],
      "execution_count": 9,
      "outputs": [
        {
          "output_type": "stream",
          "text": [
            "Enter Your Name :shahid\n",
            "Enter Your Age :41\n",
            "shahid will be 100 year old in 2080\n"
          ],
          "name": "stdout"
        }
      ]
    },
    {
      "cell_type": "code",
      "metadata": {
        "id": "rErQ4-XkCbWQ"
      },
      "source": [
        ""
      ],
      "execution_count": null,
      "outputs": []
    }
  ]
}