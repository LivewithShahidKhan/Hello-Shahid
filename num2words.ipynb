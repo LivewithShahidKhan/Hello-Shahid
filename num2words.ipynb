{
  "nbformat": 4,
  "nbformat_minor": 0,
  "metadata": {
    "colab": {
      "name": "num2words.ipynb",
      "provenance": [],
      "authorship_tag": "ABX9TyOG8+T9XAeEbkkfPxVr/Ma+",
      "include_colab_link": true
    },
    "kernelspec": {
      "name": "python3",
      "display_name": "Python 3"
    }
  },
  "cells": [
    {
      "cell_type": "markdown",
      "metadata": {
        "id": "view-in-github",
        "colab_type": "text"
      },
      "source": [
        "<a href=\"https://colab.research.google.com/github/LivewithShahidKhan/Hello-Shahid/blob/master/num2words.ipynb\" target=\"_parent\"><img src=\"https://colab.research.google.com/assets/colab-badge.svg\" alt=\"Open In Colab\"/></a>"
      ]
    },
    {
      "cell_type": "code",
      "metadata": {
        "id": "rCiO9J101CPy"
      },
      "source": [
        "new_user = input(\"Conver Number to Words :\")\r\n",
        "user_will = input(str(\"Do you want proceed process :\"))\r\n",
        "if user_will == \"yes\":\r\n",
        "  print(\"Ok Wait.....\")\r\n",
        "else:\r\n",
        "  print(\"Ok, Plz write Number again\")\r\n",
        "  # Time Delay\r\n",
        "import time\r\n",
        "while True:\r\n",
        "  time.sleep(5)\r\n",
        "  print(num2words(new_user))\r\n",
        "  break\r\n",
        "\r\n",
        "\r\n",
        "\r\n",
        "\r\n"
      ],
      "execution_count": null,
      "outputs": []
    }
  ]
}